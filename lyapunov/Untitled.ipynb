{
 "cells": [
  {
   "cell_type": "code",
   "execution_count": 23,
   "id": "useful-ownership",
   "metadata": {},
   "outputs": [],
   "source": [
    "import sys\n",
    "sys.path.append('../')\n",
    "\n",
    "from lyapunov.core import Manager"
   ]
  },
  {
   "cell_type": "code",
   "execution_count": 29,
   "id": "meaning-article",
   "metadata": {},
   "outputs": [],
   "source": [
    "import example.domains"
   ]
  },
  {
   "cell_type": "code",
   "execution_count": 36,
   "id": "legitimate-landing",
   "metadata": {},
   "outputs": [
    {
     "name": "stdout",
     "output_type": "stream",
     "text": [
      "Couldn't find MNIST dataset in examples/results/mnist, downloading...\n",
      "Traceback (most recent call last):\n",
      "  File \"run.py\", line 268, in <module>\n",
      "    run_experiment(Train, Domain, Generator, Discriminator, params)\n",
      "  File \"run.py\", line 180, in run_experiment\n",
      "    data = Domain(dim=params['x_dim'], batch_size=params['batch_size'])\n",
      "  File \"/home/cotran/Lyapunov-GANs/lyapunov/../example/domains/mnist.py\", line 24, in __init__\n",
      "    self.data = self.load()\n",
      "  File \"/home/cotran/Lyapunov-GANs/lyapunov/../example/domains/mnist.py\", line 62, in load\n",
      "    urllib.request.urlretrieve(url, filepath)\n",
      "  File \"/usr/lib/python3.8/urllib/request.py\", line 257, in urlretrieve\n",
      "    tfp = open(filename, 'wb')\n",
      "FileNotFoundError: [Errno 2] No such file or directory: '/home/cotran/Lyapunov-GANs/lyapunov/examples/results/mnist/mnist.pkl.gz'\n"
     ]
    }
   ],
   "source": [
    "!python3 run.py"
   ]
  },
  {
   "cell_type": "code",
   "execution_count": 28,
   "id": "personal-vaccine",
   "metadata": {},
   "outputs": [
    {
     "name": "stdout",
     "output_type": "stream",
     "text": [
      "Help on package examples:\n",
      "\n",
      "NAME\n",
      "    examples\n",
      "\n",
      "PACKAGE CONTENTS\n",
      "    basic\n",
      "    context_manager\n",
      "    floats\n",
      "    ftp_downloader\n",
      "    multiple_logging\n",
      "\n",
      "FILE\n",
      "    /usr/local/lib/python3.8/dist-packages/examples/__init__.py\n",
      "\n",
      "\n"
     ]
    }
   ],
   "source": [
    "help(examples)"
   ]
  },
  {
   "cell_type": "code",
   "execution_count": null,
   "id": "planned-packet",
   "metadata": {},
   "outputs": [],
   "source": []
  }
 ],
 "metadata": {
  "kernelspec": {
   "display_name": "Python 3",
   "language": "python",
   "name": "python3"
  },
  "language_info": {
   "codemirror_mode": {
    "name": "ipython",
    "version": 3
   },
   "file_extension": ".py",
   "mimetype": "text/x-python",
   "name": "python",
   "nbconvert_exporter": "python",
   "pygments_lexer": "ipython3",
   "version": "3.8.10"
  }
 },
 "nbformat": 4,
 "nbformat_minor": 5
}
