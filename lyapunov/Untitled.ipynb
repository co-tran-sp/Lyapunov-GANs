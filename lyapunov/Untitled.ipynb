{
 "cells": [
  {
   "cell_type": "code",
   "execution_count": 23,
   "id": "useful-ownership",
   "metadata": {},
   "outputs": [],
   "source": [
    "import sys\n",
    "sys.path.append('../')\n",
    "\n",
    "from lyapunov.core import Manager"
   ]
  },
  {
   "cell_type": "code",
   "execution_count": 29,
   "id": "meaning-article",
   "metadata": {},
   "outputs": [],
   "source": [
    "import example.domains"
   ]
  },
  {
   "cell_type": "code",
   "execution_count": 37,
   "id": "legitimate-landing",
   "metadata": {},
   "outputs": [
    {
     "name": "stdout",
     "output_type": "stream",
     "text": [
      "Couldn't find MNIST dataset in examples/domains/mnist, downloading...\n",
      "NOTE: Discriminator dimensionality = 4108289.\n",
      "NOTE: Generator dimensionality = 6209921.\n",
      "Saving results to: examples/results/MNIST//2021-10-18-21-57-38/\n",
      "^C\n"
     ]
    }
   ],
   "source": [
    "!python3 run.py"
   ]
  },
  {
   "cell_type": "code",
   "execution_count": 28,
   "id": "personal-vaccine",
   "metadata": {},
   "outputs": [
    {
     "name": "stdout",
     "output_type": "stream",
     "text": [
      "Help on package examples:\n",
      "\n",
      "NAME\n",
      "    examples\n",
      "\n",
      "PACKAGE CONTENTS\n",
      "    basic\n",
      "    context_manager\n",
      "    floats\n",
      "    ftp_downloader\n",
      "    multiple_logging\n",
      "\n",
      "FILE\n",
      "    /usr/local/lib/python3.8/dist-packages/examples/__init__.py\n",
      "\n",
      "\n"
     ]
    }
   ],
   "source": [
    "help(examples)"
   ]
  },
  {
   "cell_type": "code",
   "execution_count": null,
   "id": "planned-packet",
   "metadata": {},
   "outputs": [],
   "source": []
  }
 ],
 "metadata": {
  "kernelspec": {
   "display_name": "Python 3",
   "language": "python",
   "name": "python3"
  },
  "language_info": {
   "codemirror_mode": {
    "name": "ipython",
    "version": 3
   },
   "file_extension": ".py",
   "mimetype": "text/x-python",
   "name": "python",
   "nbconvert_exporter": "python",
   "pygments_lexer": "ipython3",
   "version": "3.8.10"
  }
 },
 "nbformat": 4,
 "nbformat_minor": 5
}
